{
 "cells": [
  {
   "cell_type": "markdown",
   "id": "2183433b-6573-47f9-beef-8d77d61324e4",
   "metadata": {},
   "source": [
    "                                                          Assigment-1        "
   ]
  },
  {
   "cell_type": "code",
   "execution_count": 36,
   "id": "031e758e-c6c7-4703-904b-ef1f78b877a2",
   "metadata": {},
   "outputs": [],
   "source": [
    "#Q1\n",
    "#ANS \n",
    "s='imran'\n",
    "l=[1,'imran',55.0,60,'a']\n",
    "f=66.0\n",
    "t=(20,30,'imarn')"
   ]
  },
  {
   "cell_type": "code",
   "execution_count": 37,
   "id": "a0ea899d-0e6d-4e9b-be8c-b3fb0e00f0e7",
   "metadata": {},
   "outputs": [
    {
     "data": {
      "text/plain": [
       "str"
      ]
     },
     "execution_count": 37,
     "metadata": {},
     "output_type": "execute_result"
    }
   ],
   "source": [
    "#Q2\n",
    "#ANS 1\n",
    "var1=''\n",
    "type(var1)"
   ]
  },
  {
   "cell_type": "code",
   "execution_count": 38,
   "id": "5525dc50-8513-48cd-a5b8-d7962b9b1ccd",
   "metadata": {},
   "outputs": [
    {
     "data": {
      "text/plain": [
       "str"
      ]
     },
     "execution_count": 38,
     "metadata": {},
     "output_type": "execute_result"
    }
   ],
   "source": [
    "#Ans2\n",
    "var2='[DS,ML,Python]'\n",
    "type(var2)"
   ]
  },
  {
   "cell_type": "code",
   "execution_count": 39,
   "id": "0965acb9-21b1-492d-94a7-8dae8d00ba18",
   "metadata": {},
   "outputs": [
    {
     "data": {
      "text/plain": [
       "list"
      ]
     },
     "execution_count": 39,
     "metadata": {},
     "output_type": "execute_result"
    }
   ],
   "source": [
    "#Ans 3\n",
    "var3=['DS','ML','Python']\n",
    "type(var3)"
   ]
  },
  {
   "cell_type": "code",
   "execution_count": 40,
   "id": "1d9c225a-a2d6-46c1-a28c-3ef72266797e",
   "metadata": {},
   "outputs": [
    {
     "data": {
      "text/plain": [
       "int"
      ]
     },
     "execution_count": 40,
     "metadata": {},
     "output_type": "execute_result"
    }
   ],
   "source": [
    "#Ans 4\n",
    "var4=1\n",
    "type(var4)"
   ]
  },
  {
   "cell_type": "code",
   "execution_count": 41,
   "id": "047bff47-a995-4f42-ab55-45a79362fc87",
   "metadata": {},
   "outputs": [
    {
     "data": {
      "text/plain": [
       "5.0"
      ]
     },
     "execution_count": 41,
     "metadata": {},
     "output_type": "execute_result"
    }
   ],
   "source": [
    "#Q3\n",
    "#Ans 1\n",
    "10/2\n",
    "#It is division operator return quotient"
   ]
  },
  {
   "cell_type": "code",
   "execution_count": 42,
   "id": "422aab92-cef3-445d-9e2c-65f6a4d77698",
   "metadata": {},
   "outputs": [
    {
     "data": {
      "text/plain": [
       "0"
      ]
     },
     "execution_count": 42,
     "metadata": {},
     "output_type": "execute_result"
    }
   ],
   "source": [
    "#Ans 2\n",
    "10%2\n",
    "#It is modelus operator return reminder"
   ]
  },
  {
   "cell_type": "code",
   "execution_count": 43,
   "id": "1f297638-ad36-4478-9a42-7f6ca80aeb27",
   "metadata": {},
   "outputs": [
    {
     "data": {
      "text/plain": [
       "3"
      ]
     },
     "execution_count": 43,
     "metadata": {},
     "output_type": "execute_result"
    }
   ],
   "source": [
    "#Ans 3\n",
    "10//3\n",
    "#It is floor division operator return quotient by rounding off"
   ]
  },
  {
   "cell_type": "code",
   "execution_count": 44,
   "id": "8e39d08f-e3f1-4782-9dc6-ed8065d3b2a4",
   "metadata": {},
   "outputs": [
    {
     "data": {
      "text/plain": [
       "1000"
      ]
     },
     "execution_count": 44,
     "metadata": {},
     "output_type": "execute_result"
    }
   ],
   "source": [
    "#Ans 4\n",
    "10**3\n",
    "#It is Exponentiation operator "
   ]
  },
  {
   "cell_type": "code",
   "execution_count": 45,
   "id": "824be884-2d53-433d-b47a-7abdbc0a16a8",
   "metadata": {},
   "outputs": [
    {
     "name": "stdout",
     "output_type": "stream",
     "text": [
      "1\n",
      "<class 'int'>\n",
      "2\n",
      "<class 'int'>\n",
      "3\n",
      "<class 'int'>\n",
      "4\n",
      "<class 'int'>\n",
      "5\n",
      "<class 'int'>\n",
      "6\n",
      "<class 'int'>\n",
      "7\n",
      "<class 'int'>\n",
      "8\n",
      "<class 'int'>\n",
      "9.5\n",
      "<class 'float'>\n",
      "imran\n",
      "<class 'str'>\n"
     ]
    }
   ],
   "source": [
    "#Q4\n",
    "\n",
    "l=[1,2,3,4,5,6,7,8,9.5,'imran']\n",
    "for i in l:\n",
    "    print(i)\n",
    "    print(type(i))"
   ]
  },
  {
   "cell_type": "code",
   "execution_count": 60,
   "id": "fbd01d39-883c-4432-b41d-d3bbfda0e9e9",
   "metadata": {},
   "outputs": [
    {
     "name": "stdin",
     "output_type": "stream",
     "text": [
      " 8\n",
      " 2\n"
     ]
    },
    {
     "name": "stdout",
     "output_type": "stream",
     "text": [
      "2\n"
     ]
    }
   ],
   "source": [
    "#q5\n",
    "\n",
    "a=int(input())\n",
    "b=int(input())\n",
    "c=0\n",
    "while a>b:\n",
    "    if a%b==0:\n",
    "        c=c+1\n",
    "        b=b+1\n",
    "    else:\n",
    "        b=b+1\n",
    "print(c)\n",
    "    \n"
   ]
  },
  {
   "cell_type": "code",
   "execution_count": 56,
   "id": "d17e86d3-3112-4534-832b-b9aeb8dcf433",
   "metadata": {},
   "outputs": [
    {
     "name": "stdout",
     "output_type": "stream",
     "text": [
      "1 is not divisible by 3\n",
      "2 is not divisible by 3\n",
      "3 is divisible by 3\n",
      "4 is not divisible by 3\n",
      "5 is not divisible by 3\n",
      "6 is divisible by 3\n",
      "7 is not divisible by 3\n",
      "8 is not divisible by 3\n",
      "9 is divisible by 3\n",
      "10 is not divisible by 3\n",
      "11 is not divisible by 3\n",
      "12 is divisible by 3\n",
      "13 is not divisible by 3\n",
      "14 is not divisible by 3\n",
      "15 is divisible by 3\n",
      "16 is not divisible by 3\n",
      "17 is not divisible by 3\n",
      "18 is divisible by 3\n",
      "19 is not divisible by 3\n",
      "20 is not divisible by 3\n",
      "21 is divisible by 3\n",
      "22 is not divisible by 3\n",
      "23 is not divisible by 3\n",
      "24 is divisible by 3\n",
      "25 is not divisible by 3\n"
     ]
    }
   ],
   "source": [
    "#Q6\n",
    "l=[1,2,3,4,5,6,7,8,9,10,11,12,13,14,15,16,17,18,19,20,21,22,23,24,25]\n",
    "for i in l:\n",
    "    if i%3==0:\n",
    "        print(i ,'is divisible by 3')\n",
    "    else:\n",
    "        print(i,'is not divisible by 3')"
   ]
  },
  {
   "cell_type": "code",
   "execution_count": 47,
   "id": "f3c11c15-202d-4af7-8074-bc9ec29ce19f",
   "metadata": {},
   "outputs": [
    {
     "name": "stdout",
     "output_type": "stream",
     "text": [
      "[1, 11, 3, 4, 5, 6, 7]\n"
     ]
    }
   ],
   "source": [
    "#Q7\n",
    "#Mutable objects are those that allow you to change their value or data in place without affecting the object's identity.\n",
    "#In contrast, immutable objects don't allow this kind of operation.EX\n",
    "l=[1,2,3,4,5,6,7]\n",
    "l[1]=11\n",
    "print(l)\n",
    "#Mutable"
   ]
  },
  {
   "cell_type": "code",
   "execution_count": 48,
   "id": "5d42472a-8d21-438e-9239-c8702af5a9ca",
   "metadata": {},
   "outputs": [
    {
     "ename": "TypeError",
     "evalue": "'str' object does not support item assignment",
     "output_type": "error",
     "traceback": [
      "\u001b[0;31m---------------------------------------------------------------------------\u001b[0m",
      "\u001b[0;31mTypeError\u001b[0m                                 Traceback (most recent call last)",
      "Cell \u001b[0;32mIn[48], line 2\u001b[0m\n\u001b[1;32m      1\u001b[0m s\u001b[38;5;241m=\u001b[39m\u001b[38;5;124m\"\u001b[39m\u001b[38;5;124mimran\u001b[39m\u001b[38;5;124m\"\u001b[39m\n\u001b[0;32m----> 2\u001b[0m \u001b[43ms\u001b[49m\u001b[43m[\u001b[49m\u001b[38;5;241;43m1\u001b[39;49m\u001b[43m]\u001b[49m\u001b[38;5;241m=\u001b[39m\u001b[38;5;124m\"\u001b[39m\u001b[38;5;124mm\u001b[39m\u001b[38;5;124m\"\u001b[39m\n\u001b[1;32m      3\u001b[0m \u001b[38;5;66;03m#Immutable\u001b[39;00m\n",
      "\u001b[0;31mTypeError\u001b[0m: 'str' object does not support item assignment"
     ]
    }
   ],
   "source": [
    "s=\"imran\"\n",
    "s[1]=\"m\"\n",
    "#Immutable"
   ]
  },
  {
   "cell_type": "code",
   "execution_count": null,
   "id": "ba334be8-ac73-4fd6-a57c-52de66dd3c98",
   "metadata": {},
   "outputs": [],
   "source": []
  },
  {
   "cell_type": "code",
   "execution_count": null,
   "id": "a924e846-dc16-4635-9f13-df1e201e3dd8",
   "metadata": {},
   "outputs": [],
   "source": []
  }
 ],
 "metadata": {
  "kernelspec": {
   "display_name": "Python 3 (ipykernel)",
   "language": "python",
   "name": "python3"
  },
  "language_info": {
   "codemirror_mode": {
    "name": "ipython",
    "version": 3
   },
   "file_extension": ".py",
   "mimetype": "text/x-python",
   "name": "python",
   "nbconvert_exporter": "python",
   "pygments_lexer": "ipython3",
   "version": "3.10.8"
  }
 },
 "nbformat": 4,
 "nbformat_minor": 5
}
